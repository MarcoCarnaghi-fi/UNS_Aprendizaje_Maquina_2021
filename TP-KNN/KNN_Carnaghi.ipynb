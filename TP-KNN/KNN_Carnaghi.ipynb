{
  "nbformat": 4,
  "nbformat_minor": 0,
  "metadata": {
    "colab": {
      "name": "KNN_Carnaghi.ipynb",
      "provenance": [],
      "collapsed_sections": [],
      "authorship_tag": "ABX9TyO1IOFsmJSOCfha/eULxJxM",
      "include_colab_link": true
    },
    "kernelspec": {
      "name": "python3",
      "display_name": "Python 3"
    },
    "language_info": {
      "name": "python"
    }
  },
  "cells": [
    {
      "cell_type": "markdown",
      "metadata": {
        "id": "view-in-github",
        "colab_type": "text"
      },
      "source": [
        "<a href=\"https://colab.research.google.com/github/MarcoCarnaghi-fi/UNS_Aprendizaje_Maquina_2021/blob/main/TP-KNN/KNN_Carnaghi.ipynb\" target=\"_parent\"><img src=\"https://colab.research.google.com/assets/colab-badge.svg\" alt=\"Open In Colab\"/></a>"
      ]
    },
    {
      "cell_type": "markdown",
      "metadata": {
        "id": "ckNY8WEHr2kA"
      },
      "source": [
        "# KNN \n",
        "\n",
        "El objetivo del presente notebook es:\n",
        "* generar dos conjuntos de datos con distinta media y covarianza\n",
        "* entrenar un clasificador mediante KNN\n",
        "* extraer conclusiones respecto a las variaciones en el dataset y parámetros del clasificador\n"
      ]
    },
    {
      "cell_type": "code",
      "metadata": {
        "id": "2e15fmEAAAvP"
      },
      "source": [
        "#Imports\n",
        "import numpy as np\n",
        "import matplotlib.pyplot as plt\n",
        "import pandas as pd"
      ],
      "execution_count": null,
      "outputs": []
    },
    {
      "cell_type": "code",
      "metadata": {
        "colab": {
          "base_uri": "https://localhost:8080/"
        },
        "id": "TafsORkpAWjO",
        "outputId": "f9a38ecb-b692-42aa-e284-46ef3ac4477b"
      },
      "source": [
        "#Data generation\n",
        "means_A = [30,80]\n",
        "cov_A = [[10, 5],[5,15]]\n",
        "\n",
        "means_B = [60,15]\n",
        "cov_B = [[10, 1],[1,30]]\n",
        "\n",
        "x_A, y_A = np.random.multivariate_normal(means_A, cov_A, 100).T\n",
        "x_B, y_B = np.random.multivariate_normal(means_B, cov_B, 100).T\n",
        "\n",
        "x_A"
      ],
      "execution_count": null,
      "outputs": [
        {
          "output_type": "execute_result",
          "data": {
            "text/plain": [
              "array([30.10457657, 28.99692893, 31.01683856, 29.7638393 , 30.20029085,\n",
              "       27.81610368, 29.4987491 , 34.48761189, 26.35221864, 35.98942484,\n",
              "       28.43580714, 36.53261362, 30.96266635, 28.08386354, 32.23891402,\n",
              "       35.98388012, 32.20375886, 27.93397574, 33.53298372, 31.15358621,\n",
              "       29.69876713, 26.10823474, 35.51779152, 29.79563018, 30.10821485,\n",
              "       31.53363951, 27.42689931, 38.0620426 , 30.40351578, 32.94787233,\n",
              "       28.72549958, 25.79543036, 29.92528764, 31.31245011, 29.08354776,\n",
              "       29.0942193 , 34.10130273, 28.33109062, 30.07522677, 26.83029189,\n",
              "       30.83451993, 27.79984271, 30.19523715, 25.72892943, 29.15060259,\n",
              "       24.89675508, 27.5633994 , 26.34229039, 32.7197903 , 31.09201736,\n",
              "       32.17984627, 30.97355027, 28.24765323, 26.60346376, 31.42427267,\n",
              "       23.36336718, 26.57262405, 26.92081954, 24.73772177, 38.62298426,\n",
              "       30.31619118, 30.77323966, 29.55365815, 32.30406245, 30.79706778,\n",
              "       28.14234166, 32.26853299, 25.38654901, 30.30407789, 27.81624674,\n",
              "       26.45151984, 37.90648585, 26.494109  , 27.30596778, 32.19246299,\n",
              "       22.69379785, 28.65741848, 27.43013994, 29.98123087, 33.41408246,\n",
              "       30.01552062, 28.94452888, 31.51997768, 29.89841359, 32.08414231,\n",
              "       31.32704172, 31.76109166, 32.06788187, 34.07408342, 29.61865049,\n",
              "       25.94908905, 26.92307253, 24.85999643, 28.20317164, 32.73711088,\n",
              "       31.77445587, 32.02336931, 30.54025743, 27.90433486, 24.28552857])"
            ]
          },
          "metadata": {},
          "execution_count": 2
        }
      ]
    },
    {
      "cell_type": "code",
      "metadata": {
        "id": "rDubTQqSBlqm"
      },
      "source": [
        "XA = np.ndarray.tolist(x_A)\n",
        "YA = np.ndarray.tolist(y_A)\n",
        "XB = np.ndarray.tolist(x_B)\n",
        "YB = np.ndarray.tolist(y_B)\n",
        "\n",
        "XA.extend(XB)\n",
        "YA.extend(YB)"
      ],
      "execution_count": null,
      "outputs": []
    },
    {
      "cell_type": "code",
      "metadata": {
        "colab": {
          "base_uri": "https://localhost:8080/",
          "height": 419
        },
        "id": "8AgvBrlzCPNa",
        "outputId": "e5efdb79-06c2-46eb-fb79-059d6c851af6"
      },
      "source": [
        "#DataFrame generation\n",
        "df = pd.DataFrame(XA, columns = ['x'])\n",
        "df['y'] = YA\n",
        "\n",
        "target = [1 for i in range(100)]\n",
        "target.extend([2 for i in range(100)])\n",
        "\n",
        "df['label']=target\n",
        "\n",
        "df"
      ],
      "execution_count": null,
      "outputs": [
        {
          "output_type": "execute_result",
          "data": {
            "text/html": [
              "<div>\n",
              "<style scoped>\n",
              "    .dataframe tbody tr th:only-of-type {\n",
              "        vertical-align: middle;\n",
              "    }\n",
              "\n",
              "    .dataframe tbody tr th {\n",
              "        vertical-align: top;\n",
              "    }\n",
              "\n",
              "    .dataframe thead th {\n",
              "        text-align: right;\n",
              "    }\n",
              "</style>\n",
              "<table border=\"1\" class=\"dataframe\">\n",
              "  <thead>\n",
              "    <tr style=\"text-align: right;\">\n",
              "      <th></th>\n",
              "      <th>x</th>\n",
              "      <th>y</th>\n",
              "      <th>label</th>\n",
              "    </tr>\n",
              "  </thead>\n",
              "  <tbody>\n",
              "    <tr>\n",
              "      <th>0</th>\n",
              "      <td>30.104577</td>\n",
              "      <td>76.327827</td>\n",
              "      <td>1</td>\n",
              "    </tr>\n",
              "    <tr>\n",
              "      <th>1</th>\n",
              "      <td>28.996929</td>\n",
              "      <td>78.128112</td>\n",
              "      <td>1</td>\n",
              "    </tr>\n",
              "    <tr>\n",
              "      <th>2</th>\n",
              "      <td>31.016839</td>\n",
              "      <td>75.141206</td>\n",
              "      <td>1</td>\n",
              "    </tr>\n",
              "    <tr>\n",
              "      <th>3</th>\n",
              "      <td>29.763839</td>\n",
              "      <td>74.668656</td>\n",
              "      <td>1</td>\n",
              "    </tr>\n",
              "    <tr>\n",
              "      <th>4</th>\n",
              "      <td>30.200291</td>\n",
              "      <td>83.626641</td>\n",
              "      <td>1</td>\n",
              "    </tr>\n",
              "    <tr>\n",
              "      <th>...</th>\n",
              "      <td>...</td>\n",
              "      <td>...</td>\n",
              "      <td>...</td>\n",
              "    </tr>\n",
              "    <tr>\n",
              "      <th>195</th>\n",
              "      <td>59.588045</td>\n",
              "      <td>16.439426</td>\n",
              "      <td>2</td>\n",
              "    </tr>\n",
              "    <tr>\n",
              "      <th>196</th>\n",
              "      <td>57.388399</td>\n",
              "      <td>15.987969</td>\n",
              "      <td>2</td>\n",
              "    </tr>\n",
              "    <tr>\n",
              "      <th>197</th>\n",
              "      <td>63.231014</td>\n",
              "      <td>16.905402</td>\n",
              "      <td>2</td>\n",
              "    </tr>\n",
              "    <tr>\n",
              "      <th>198</th>\n",
              "      <td>60.988853</td>\n",
              "      <td>16.113470</td>\n",
              "      <td>2</td>\n",
              "    </tr>\n",
              "    <tr>\n",
              "      <th>199</th>\n",
              "      <td>61.110509</td>\n",
              "      <td>11.713466</td>\n",
              "      <td>2</td>\n",
              "    </tr>\n",
              "  </tbody>\n",
              "</table>\n",
              "<p>200 rows × 3 columns</p>\n",
              "</div>"
            ],
            "text/plain": [
              "             x          y  label\n",
              "0    30.104577  76.327827      1\n",
              "1    28.996929  78.128112      1\n",
              "2    31.016839  75.141206      1\n",
              "3    29.763839  74.668656      1\n",
              "4    30.200291  83.626641      1\n",
              "..         ...        ...    ...\n",
              "195  59.588045  16.439426      2\n",
              "196  57.388399  15.987969      2\n",
              "197  63.231014  16.905402      2\n",
              "198  60.988853  16.113470      2\n",
              "199  61.110509  11.713466      2\n",
              "\n",
              "[200 rows x 3 columns]"
            ]
          },
          "metadata": {},
          "execution_count": 4
        }
      ]
    },
    {
      "cell_type": "code",
      "metadata": {
        "colab": {
          "base_uri": "https://localhost:8080/",
          "height": 297
        },
        "id": "rykCzQp8C8la",
        "outputId": "b484bf35-c40f-43f0-9525-e19be731bbee"
      },
      "source": [
        "#Plotting the dataset\n",
        "# The indices of the features that we are plotting\n",
        "x_index = 0\n",
        "y_index = 1\n",
        "labels = [0,1,2]\n",
        "\n",
        "# this formatter will label the colorbar with the correct target names\n",
        "formatter = plt.FuncFormatter(lambda i, *args: '{}'.format(labels[i]))\n",
        "\n",
        "plt.figure(figsize=(5, 4))\n",
        "plt.scatter(df['x'], df['y'], c=df['label'])\n",
        "plt.colorbar(ticks=[0,1,2], format=formatter)\n",
        "plt.xlabel('x')\n",
        "plt.ylabel('y')\n",
        "\n",
        "plt.tight_layout()\n",
        "plt.show()"
      ],
      "execution_count": null,
      "outputs": [
        {
          "output_type": "display_data",
          "data": {
            "image/png": "[encoded data removed]",
            "text/plain": [
              "<Figure size 360x288 with 2 Axes>"
            ]
          },
          "metadata": {
            "needs_background": "light"
          }
        }
      ]
    },
    {
      "cell_type": "code",
      "metadata": {
        "colab": {
          "base_uri": "https://localhost:8080/"
        },
        "id": "pnBSIsT9DU9M",
        "outputId": "b7e32394-0a2a-4f66-ebed-a3deee6a9358"
      },
      "source": [
        "#Split Dataset into Train and Test sets\n",
        "train_batch = df.sample(n=100, random_state=1)\n",
        "print(train_batch)\n",
        "test_batch = df.drop(train_batch.index)\n",
        "print(test_batch)\n"
      ],
      "execution_count": null,
      "outputs": [
        {
          "output_type": "stream",
          "name": "stdout",
          "text": [
            "             x          y  label\n",
            "58   24.737722  73.128577      1\n",
            "40   30.834520  84.925399      1\n",
            "34   29.083548  85.503379      1\n",
            "102  60.980140  19.013622      2\n",
            "184  57.764391   3.090673      2\n",
            "..         ...        ...    ...\n",
            "103  60.009171  15.457926      2\n",
            "195  59.588045  16.439426      2\n",
            "197  63.231014  16.905402      2\n",
            "148  55.356873   9.617003      2\n",
            "173  64.594511  20.309397      2\n",
            "\n",
            "[100 rows x 3 columns]\n",
            "             x          y  label\n",
            "0    30.104577  76.327827      1\n",
            "1    28.996929  78.128112      1\n",
            "2    31.016839  75.141206      1\n",
            "3    29.763839  74.668656      1\n",
            "6    29.498749  79.601294      1\n",
            "..         ...        ...    ...\n",
            "182  57.351853   5.838122      2\n",
            "188  56.237684  10.135910      2\n",
            "190  60.071424  18.958601      2\n",
            "192  57.061334   4.107983      2\n",
            "196  57.388399  15.987969      2\n",
            "\n",
            "[100 rows x 3 columns]\n"
          ]
        }
      ]
    },
    {
      "cell_type": "code",
      "metadata": {
        "colab": {
          "base_uri": "https://localhost:8080/"
        },
        "id": "jXhUCgs3GEIJ",
        "outputId": "44dbc3c6-3b50-4519-a6d5-c0ef15ebb79e"
      },
      "source": [
        "#Train model\n",
        "from sklearn import neighbors\n",
        "\n",
        "#Split dataframe into data and target\n",
        "features = train_batch[['x','y']]\n",
        "target = train_batch['label']\n",
        "\n",
        "#Training\n",
        "knn = neighbors.KNeighborsClassifier(n_neighbors=10)\n",
        "knn.fit(features, target)\n"
      ],
      "execution_count": null,
      "outputs": [
        {
          "output_type": "execute_result",
          "data": {
            "text/plain": [
              "KNeighborsClassifier(algorithm='auto', leaf_size=30, metric='minkowski',\n",
              "                     metric_params=None, n_jobs=None, n_neighbors=10, p=2,\n",
              "                     weights='uniform')"
            ]
          },
          "metadata": {},
          "execution_count": 10
        }
      ]
    },
    {
      "cell_type": "code",
      "metadata": {
        "colab": {
          "base_uri": "https://localhost:8080/"
        },
        "id": "c7LsUXznO_bZ",
        "outputId": "afe73c9c-ff3c-4fff-a634-04fba51d18a9"
      },
      "source": [
        "test_data = test_batch.sample(n=1)\n",
        "prediction = knn.predict(test_data[['x','y']])\n",
        "\n",
        "print('Correct class is:{}'.format(test_data['label'].values) ,'And predicted values is:', prediction )"
      ],
      "execution_count": null,
      "outputs": [
        {
          "output_type": "execute_result",
          "data": {
            "text/plain": [
              "1"
            ]
          },
          "metadata": {},
          "execution_count": 29
        }
      ]
    },
    {
      "cell_type": "code",
      "metadata": {
        "id": "V7UtKMdlR8Mo"
      },
      "source": [
        "#Performance methods\n",
        "def accuracy (test_data, model, positive_class):\n",
        "  total_population = len(test_data)\n",
        "  TP = 0\n",
        "  TN = 0\n",
        "  for i in range(total_population):\n",
        "    test = test_data.sample()\n",
        "    test_data.drop(test.index)\n",
        "    feature = test[['x','y']]\n",
        "    target = test.label.values[0]\n",
        "    prediction = model.predict(feature)\n",
        "    if prediction[0] == target:\n",
        "      if target == positive_class:\n",
        "        TP = TP+1\n",
        "      else :\n",
        "        TN = TN+1\n",
        "\n",
        "\n",
        "  return (TP+TN)/total_population\n",
        "\n",
        "\n",
        "\n",
        "\n",
        "def precision_mes (test_data, model, positive_class):\n",
        "  total_population = len(test_data)\n",
        "  TP = 0\n",
        "  FP = 0\n",
        "  for i in range(total_population):\n",
        "    test = test_data.sample()\n",
        "    test_data.drop(test.index)\n",
        "    feature = test[['x','y']]\n",
        "    target = test.label.values[0]\n",
        "    prediction = model.predict(feature)\n",
        "    if (prediction[0] == target) and (target == positive_class):\n",
        "      TP = TP+1\n",
        "    elif (prediction[0] == positive_class):\n",
        "      FP = FP+1\n",
        "\n",
        "\n",
        "  return (TP)/(FP+TP)\n",
        "\n",
        "def recall (test_data, model, positive_class):\n",
        "  total_population = len(test_data)\n",
        "  TP = 0\n",
        "  FN = 0\n",
        "  for i in range(total_population):\n",
        "    test = test_data.sample()\n",
        "    test_data.drop(test.index)\n",
        "    feature = test[['x','y']]\n",
        "    target = test.label.values[0]\n",
        "    prediction = model.predict(feature)\n",
        "    if (prediction[0] == target) and (target == positive_class):\n",
        "      TP = TP+1\n",
        "    elif (target== positive_class):\n",
        "      FN = FN+1\n",
        "\n",
        "\n",
        "  return (TP)/(FN+TP)\n",
        "\n",
        "\n",
        "def f_measure (test_data, model, positive_class):\n",
        "  recall_measure = recall (test_data, model, positive_class)\n",
        "  precision_measure = precision_mes(test_data, model, positive_class)\n",
        "  return (2*precision_measure*recall_measure)/(precision_measure+recall_measure)\n",
        "\n",
        "\n",
        "def evaluation (test_data, model, positive_class) :\n",
        "  acc = accuracy(test_data, model, positive_class)\n",
        "  prec = precision_mes(test_data, model, positive_class)\n",
        "  fmes = f_measure (test_data, model, positive_class)\n",
        "\n",
        "  return acc, prec, fmes"
      ],
      "execution_count": 1,
      "outputs": []
    },
    {
      "cell_type": "code",
      "metadata": {
        "colab": {
          "base_uri": "https://localhost:8080/"
        },
        "id": "jZUpo3pKFGw4",
        "outputId": "9aa4e93b-9465-421b-f60d-56e0c3c3399c"
      },
      "source": [
        "#Model Evaluation\n",
        "acc, precition, fmes = evaluation(test_batch, knn,1)\n",
        "print('Accuracy:{}'.format(acc))\n",
        "print('Precision:{}'.format(precition))\n",
        "print('F-Measure:{}'.format(fmes))\n",
        "\n"
      ],
      "execution_count": null,
      "outputs": [
        {
          "output_type": "stream",
          "name": "stdout",
          "text": [
            "Accuracy:1.0\n",
            "Precision:1.0\n",
            "F-Measure:1.0\n"
          ]
        }
      ]
    },
    {
      "cell_type": "markdown",
      "metadata": {
        "id": "vFo7bomMtMar"
      },
      "source": [
        "### Todo en uno\n",
        "\n",
        "A continuación se condensa el código previo para mayor agilidad en la visualización de variaciones."
      ]
    },
    {
      "cell_type": "code",
      "metadata": {
        "colab": {
          "base_uri": "https://localhost:8080/",
          "height": 384
        },
        "id": "xJPrtMB1tYan",
        "outputId": "b7e7c9b2-caa9-4b94-8212-837b3d56c388"
      },
      "source": [
        "#Imports\n",
        "import numpy as np\n",
        "import matplotlib.pyplot as plt\n",
        "import pandas as pd\n",
        "from sklearn import neighbors\n",
        "\n",
        "#Data generation\n",
        "means_A = [35,20]           ####\n",
        "cov_A = [[1, 5],[5,3]]    ####\n",
        "means_B = [30,15]           ####\n",
        "cov_B = [[10, 1],[1,30]]    ####\n",
        "\n",
        "x_A, y_A = np.random.multivariate_normal(means_A, cov_A, 100).T\n",
        "x_B, y_B = np.random.multivariate_normal(means_B, cov_B, 100).T\n",
        "XA = np.ndarray.tolist(x_A)\n",
        "YA = np.ndarray.tolist(y_A)\n",
        "XB = np.ndarray.tolist(x_B)\n",
        "YB = np.ndarray.tolist(y_B)\n",
        "XA.extend(XB)\n",
        "YA.extend(YB)\n",
        "\n",
        "#DataFrame generation\n",
        "df = pd.DataFrame(XA, columns = ['x'])\n",
        "df['y'] = YA\n",
        "\n",
        "target = [1 for i in range(100)]\n",
        "target.extend([2 for i in range(100)])\n",
        "\n",
        "df['label']=target\n",
        "\n",
        "\n",
        "#Plotting the dataset\n",
        "# The indices of the features that we are plotting\n",
        "x_index = 0\n",
        "y_index = 1\n",
        "labels = [0,1,2]\n",
        "\n",
        "# this formatter will label the colorbar with the correct target names\n",
        "formatter = plt.FuncFormatter(lambda i, *args: '{}'.format(labels[i]))\n",
        "\n",
        "plt.figure(figsize=(5, 4))\n",
        "plt.scatter(df['x'], df['y'], c=df['label'])\n",
        "plt.colorbar(ticks=[0,1,2], format=formatter)\n",
        "plt.xlabel('x')\n",
        "plt.ylabel('y')\n",
        "\n",
        "plt.tight_layout()\n",
        "plt.show()\n",
        "\n",
        "#Split Dataset into Train and Test sets\n",
        "train_batch = df.sample(n=100, random_state=1)\n",
        "test_batch = df.drop(train_batch.index)\n",
        "\n",
        "\n",
        "\n",
        "#Train model\n",
        "#Split dataframe into data and target\n",
        "features = train_batch[['x','y']]\n",
        "target = train_batch['label']\n",
        "\n",
        "#Training\n",
        "knn = neighbors.KNeighborsClassifier(n_neighbors=3)     #####\n",
        "knn.fit(features, target)\n",
        "\n",
        "\n",
        "#Model Evaluation\n",
        "acc, precition, fmes = evaluation(test_batch, knn,1)\n",
        "print('Accuracy:{}'.format(acc))\n",
        "print('Precision:{}'.format(precition))\n",
        "print('F-Measure:{}'.format(fmes))\n"
      ],
      "execution_count": 6,
      "outputs": [
        {
          "output_type": "stream",
          "name": "stderr",
          "text": [
            "/usr/local/lib/python3.7/dist-packages/ipykernel_launcher.py:13: RuntimeWarning: covariance is not positive-semidefinite.\n",
            "  del sys.path[0]\n"
          ]
        },
        {
          "output_type": "display_data",
          "data": {
            "image/png": "[encoded data removed]",
            "text/plain": [
              "<Figure size 360x288 with 2 Axes>"
            ]
          },
          "metadata": {
            "needs_background": "light"
          }
        },
        {
          "output_type": "stream",
          "name": "stdout",
          "text": [
            "Accuracy:0.9\n",
            "Precision:0.7586206896551724\n",
            "F-Measure:0.9251254341952914\n"
          ]
        }
      ]
    },
    {
      "cell_type": "markdown",
      "metadata": {
        "id": "QtF1k6jku0Gg"
      },
      "source": [
        "Las conclusiones obtenidas son:\n",
        "\n",
        "* Un mayor solapamiento a igual matriz de covarianza en las clases claramente deteriora la performance del método.\n",
        "* Un número mayor de vecinos es beneficioso para clases superpuestas con puntos \"dispersos\",i.e, valores altos en la matriz de covarianza. Mientras que para clases \"condensadas\", i.e, con poca dispersión en el espacio de atributos, es beneficioso el uso de un número bajo de vecinos."
      ]
    }
  ]
}