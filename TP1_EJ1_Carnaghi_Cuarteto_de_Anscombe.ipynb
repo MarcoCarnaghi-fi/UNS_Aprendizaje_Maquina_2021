{
  "nbformat": 4,
  "nbformat_minor": 0,
  "metadata": {
    "colab": {
      "name": "Cuarteto_de_Anscombe.ipynb",
      "provenance": [],
      "collapsed_sections": [],
      "authorship_tag": "ABX9TyM9c2J9jhdNBneMhNu/LYXI",
      "include_colab_link": true
    },
    "kernelspec": {
      "name": "python3",
      "display_name": "Python 3"
    },
    "language_info": {
      "name": "python"
    }
  },
  "cells": [
    {
      "cell_type": "markdown",
      "metadata": {
        "id": "view-in-github",
        "colab_type": "text"
      },
      "source": [
        "<a href=\"https://colab.research.google.com/github/MarcoCarnaghi-fi/UNS_Aprendizaje_Maquina_2021/blob/main/TP1_EJ1_Carnaghi_Cuarteto_de_Anscombe.ipynb\" target=\"_parent\"><img src=\"https://colab.research.google.com/assets/colab-badge.svg\" alt=\"Open In Colab\"/></a>"
      ]
    },
    {
      "cell_type": "markdown",
      "metadata": {
        "id": "JgbgsvuqGae2"
      },
      "source": [
        "#Cuarteto de Anscombe\n",
        "\n",
        "En este notebook vamos a analizar el problema del cuarteto de Anscombe. El cual refiere a 4 conjuntos de puntos con iguales valores estadísticos. Nuestro objetivo es asignar 4 nuevos puntos a su grupo correspondiente, que es único."
      ]
    },
    {
      "cell_type": "code",
      "metadata": {
        "colab": {
          "base_uri": "https://localhost:8080/",
          "height": 86
        },
        "id": "nb0BG3-GK-Fh",
        "outputId": "96175c89-afd8-463c-afb7-3f66b0f60ff0"
      },
      "source": [
        "#Para el parsing\n",
        "import re\n",
        "#Para recuperar informacion del txt\n",
        "import requests\n",
        "#Pandas\n",
        "import pandas as pd\n",
        "\n",
        "#Recuperacion de informacion\n",
        "source_data_url = 'https://raw.githubusercontent.com/fedhere/UInotebooks/master/anscombe.txt'\n",
        "\n",
        "anscombe_set= requests.get(source_data_url)\n",
        "ans_txt=anscombe_set.text\n",
        "ans_txt"
      ],
      "execution_count": null,
      "outputs": [
        {
          "output_type": "execute_result",
          "data": {
            "application/vnd.google.colaboratory.intrinsic+json": {
              "type": "string"
            },
            "text/plain": [
              "\"     Anscombe's Quartet     \\nAnscombe-Data-Set I I II II III III IV IV  \\n X Y X Y X Y X Y  \\n 10 8.04 10 9.14 10 7.46 8 6.58  \\n 8 6.95 8 8.14 8 6.77 8 5.76  \\n 13 7.58 13 8.74 13 12.74 8 7.71  \\n 9 8.81 9 8.77 9 7.11 8 8.84  \\n 11 8.33 11 9.26 11 7.81 8 8.47  \\n 14 9.96 14 8.1 14 8.84 8 7.04  \\n 6 7.24 6 6.13 6 6.08 8 5.25  \\n 4 4.26 4 3.1 4 5.39 19 12.5  \\n 12 10.84 12 9.13 12 8.15 8 5.56  \\n 7 4.82 7 7.26 7 6.42 8 7.91  \\n 5 5.68 5 4.74 5 5.73 8 6.89  \\n          \\n 9.00 7.50 9.00 7.50 9.00 7.50 9.00 7.50 Mean \\n          \\n 10.00 3.75 10.00 3.75 10.00 3.75 10.00 3.75 Variance (Population)\\n          \\n 0.816  0.816  0.816  0.817  Correlation (Pearson)\\n\\n\\n\\n\\n\""
            ]
          },
          "metadata": {},
          "execution_count": 4
        }
      ]
    },
    {
      "cell_type": "markdown",
      "metadata": {
        "id": "MytYKMaCPGEx"
      },
      "source": [
        "## Recuperación de información\n",
        "\n",
        "Los datos estan cargados en formato XY I - XY II- XY III-XY IV.\n",
        "Es decir, en cada fila tenemos un punto perteneciente a cada conjunto."
      ]
    },
    {
      "cell_type": "code",
      "metadata": {
        "colab": {
          "base_uri": "https://localhost:8080/"
        },
        "id": "TQqmbY2MO30i",
        "outputId": "8fe279ca-84f1-4acf-cf1f-f4ff37f2470d"
      },
      "source": [
        "#Recuperamos unicamente las filas que refieren a informacion de los puntos de los conjuntos.\n",
        "stop_line_num = [x.strip() for x in ans_txt.splitlines()].index('9.00 7.50 9.00 7.50 9.00 7.50 9.00 7.50 Mean')\n",
        "#print('Stadistics start at {} '.format(stop_line_num))\n",
        "\n",
        "\n",
        "useful_data = \"\\n\".join(ans_txt.splitlines()[:stop_line_num-1]) # Join use --> https://www.w3schools.com/python/ref_string_join.asp\n",
        "#useful_data\n",
        "\n",
        "pattern_anscombe_data     = re.compile(r'(^ +(\\d{1,2}) +(-?\\d+\\.\\d{2}?) +(\\d{1,2}) +(-?\\d+\\.\\d{2}?) +(\\d{1,2}) +(-?\\d+\\.\\d{2}?) +(\\d{1,2}) +(-?\\d+\\.\\d{2}?))', re.MULTILINE)\n",
        "data_tuples = re.findall(pattern_anscombe_data, useful_data)\n",
        "data_tuples\n"
      ],
      "execution_count": null,
      "outputs": [
        {
          "output_type": "execute_result",
          "data": {
            "text/plain": [
              "[(' 10 8.04 10 9.14 10 7.46 8 6.58',\n",
              "  '10',\n",
              "  '8.04',\n",
              "  '10',\n",
              "  '9.14',\n",
              "  '10',\n",
              "  '7.46',\n",
              "  '8',\n",
              "  '6.58'),\n",
              " (' 8 6.95 8 8.14 8 6.77 8 5.76',\n",
              "  '8',\n",
              "  '6.95',\n",
              "  '8',\n",
              "  '8.14',\n",
              "  '8',\n",
              "  '6.77',\n",
              "  '8',\n",
              "  '5.76'),\n",
              " (' 13 7.58 13 8.74 13 12.74 8 7.71',\n",
              "  '13',\n",
              "  '7.58',\n",
              "  '13',\n",
              "  '8.74',\n",
              "  '13',\n",
              "  '12.74',\n",
              "  '8',\n",
              "  '7.71'),\n",
              " (' 9 8.81 9 8.77 9 7.11 8 8.84',\n",
              "  '9',\n",
              "  '8.81',\n",
              "  '9',\n",
              "  '8.77',\n",
              "  '9',\n",
              "  '7.11',\n",
              "  '8',\n",
              "  '8.84'),\n",
              " (' 11 8.33 11 9.26 11 7.81 8 8.47',\n",
              "  '11',\n",
              "  '8.33',\n",
              "  '11',\n",
              "  '9.26',\n",
              "  '11',\n",
              "  '7.81',\n",
              "  '8',\n",
              "  '8.47'),\n",
              " (' 6 7.24 6 6.13 6 6.08 8 5.25',\n",
              "  '6',\n",
              "  '7.24',\n",
              "  '6',\n",
              "  '6.13',\n",
              "  '6',\n",
              "  '6.08',\n",
              "  '8',\n",
              "  '5.25'),\n",
              " (' 12 10.84 12 9.13 12 8.15 8 5.56',\n",
              "  '12',\n",
              "  '10.84',\n",
              "  '12',\n",
              "  '9.13',\n",
              "  '12',\n",
              "  '8.15',\n",
              "  '8',\n",
              "  '5.56'),\n",
              " (' 7 4.82 7 7.26 7 6.42 8 7.91',\n",
              "  '7',\n",
              "  '4.82',\n",
              "  '7',\n",
              "  '7.26',\n",
              "  '7',\n",
              "  '6.42',\n",
              "  '8',\n",
              "  '7.91'),\n",
              " (' 5 5.68 5 4.74 5 5.73 8 6.89',\n",
              "  '5',\n",
              "  '5.68',\n",
              "  '5',\n",
              "  '4.74',\n",
              "  '5',\n",
              "  '5.73',\n",
              "  '8',\n",
              "  '6.89')]"
            ]
          },
          "metadata": {},
          "execution_count": 5
        }
      ]
    },
    {
      "cell_type": "code",
      "metadata": {
        "colab": {
          "base_uri": "https://localhost:8080/",
          "height": 355
        },
        "id": "C8l9mAN8SKVh",
        "outputId": "20791c11-4a00-4f5d-d582-67ecc8260106"
      },
      "source": [
        "pd.set_option(\"max_rows\", 8)              \n",
        "\n",
        "# crea el dataframe\n",
        "columns_layers = ['to drop','X I', 'Y I','X II', 'Y II', 'X III', 'Y III', 'X IV', 'Y IV']\n",
        "df_anscombe = pd.DataFrame(data_tuples, columns = columns_layers) \n",
        "df_anscombe = df_anscombe.drop(columns=['to drop'])\n",
        "\n",
        "types_dict = {'X I': float, 'Y I': float,'X II': float, 'Y II': float, 'X III': float, 'Y III': float, 'X IV': float, 'Y IV': float} \n",
        "df_anscombe = df_anscombe.astype(types_dict) \n",
        "df_anscombe"
      ],
      "execution_count": null,
      "outputs": [
        {
          "output_type": "execute_result",
          "data": {
            "text/html": [
              "<div>\n",
              "<style scoped>\n",
              "    .dataframe tbody tr th:only-of-type {\n",
              "        vertical-align: middle;\n",
              "    }\n",
              "\n",
              "    .dataframe tbody tr th {\n",
              "        vertical-align: top;\n",
              "    }\n",
              "\n",
              "    .dataframe thead th {\n",
              "        text-align: right;\n",
              "    }\n",
              "</style>\n",
              "<table border=\"1\" class=\"dataframe\">\n",
              "  <thead>\n",
              "    <tr style=\"text-align: right;\">\n",
              "      <th></th>\n",
              "      <th>X I</th>\n",
              "      <th>Y I</th>\n",
              "      <th>X II</th>\n",
              "      <th>Y II</th>\n",
              "      <th>X III</th>\n",
              "      <th>Y III</th>\n",
              "      <th>X IV</th>\n",
              "      <th>Y IV</th>\n",
              "    </tr>\n",
              "  </thead>\n",
              "  <tbody>\n",
              "    <tr>\n",
              "      <th>0</th>\n",
              "      <td>10.0</td>\n",
              "      <td>8.04</td>\n",
              "      <td>10.0</td>\n",
              "      <td>9.14</td>\n",
              "      <td>10.0</td>\n",
              "      <td>7.46</td>\n",
              "      <td>8.0</td>\n",
              "      <td>6.58</td>\n",
              "    </tr>\n",
              "    <tr>\n",
              "      <th>1</th>\n",
              "      <td>8.0</td>\n",
              "      <td>6.95</td>\n",
              "      <td>8.0</td>\n",
              "      <td>8.14</td>\n",
              "      <td>8.0</td>\n",
              "      <td>6.77</td>\n",
              "      <td>8.0</td>\n",
              "      <td>5.76</td>\n",
              "    </tr>\n",
              "    <tr>\n",
              "      <th>2</th>\n",
              "      <td>13.0</td>\n",
              "      <td>7.58</td>\n",
              "      <td>13.0</td>\n",
              "      <td>8.74</td>\n",
              "      <td>13.0</td>\n",
              "      <td>12.74</td>\n",
              "      <td>8.0</td>\n",
              "      <td>7.71</td>\n",
              "    </tr>\n",
              "    <tr>\n",
              "      <th>3</th>\n",
              "      <td>9.0</td>\n",
              "      <td>8.81</td>\n",
              "      <td>9.0</td>\n",
              "      <td>8.77</td>\n",
              "      <td>9.0</td>\n",
              "      <td>7.11</td>\n",
              "      <td>8.0</td>\n",
              "      <td>8.84</td>\n",
              "    </tr>\n",
              "    <tr>\n",
              "      <th>...</th>\n",
              "      <td>...</td>\n",
              "      <td>...</td>\n",
              "      <td>...</td>\n",
              "      <td>...</td>\n",
              "      <td>...</td>\n",
              "      <td>...</td>\n",
              "      <td>...</td>\n",
              "      <td>...</td>\n",
              "    </tr>\n",
              "    <tr>\n",
              "      <th>5</th>\n",
              "      <td>6.0</td>\n",
              "      <td>7.24</td>\n",
              "      <td>6.0</td>\n",
              "      <td>6.13</td>\n",
              "      <td>6.0</td>\n",
              "      <td>6.08</td>\n",
              "      <td>8.0</td>\n",
              "      <td>5.25</td>\n",
              "    </tr>\n",
              "    <tr>\n",
              "      <th>6</th>\n",
              "      <td>12.0</td>\n",
              "      <td>10.84</td>\n",
              "      <td>12.0</td>\n",
              "      <td>9.13</td>\n",
              "      <td>12.0</td>\n",
              "      <td>8.15</td>\n",
              "      <td>8.0</td>\n",
              "      <td>5.56</td>\n",
              "    </tr>\n",
              "    <tr>\n",
              "      <th>7</th>\n",
              "      <td>7.0</td>\n",
              "      <td>4.82</td>\n",
              "      <td>7.0</td>\n",
              "      <td>7.26</td>\n",
              "      <td>7.0</td>\n",
              "      <td>6.42</td>\n",
              "      <td>8.0</td>\n",
              "      <td>7.91</td>\n",
              "    </tr>\n",
              "    <tr>\n",
              "      <th>8</th>\n",
              "      <td>5.0</td>\n",
              "      <td>5.68</td>\n",
              "      <td>5.0</td>\n",
              "      <td>4.74</td>\n",
              "      <td>5.0</td>\n",
              "      <td>5.73</td>\n",
              "      <td>8.0</td>\n",
              "      <td>6.89</td>\n",
              "    </tr>\n",
              "  </tbody>\n",
              "</table>\n",
              "<p>9 rows × 8 columns</p>\n",
              "</div>"
            ],
            "text/plain": [
              "     X I    Y I  X II  Y II  X III  Y III  X IV  Y IV\n",
              "0   10.0   8.04  10.0  9.14   10.0   7.46   8.0  6.58\n",
              "1    8.0   6.95   8.0  8.14    8.0   6.77   8.0  5.76\n",
              "2   13.0   7.58  13.0  8.74   13.0  12.74   8.0  7.71\n",
              "3    9.0   8.81   9.0  8.77    9.0   7.11   8.0  8.84\n",
              "..   ...    ...   ...   ...    ...    ...   ...   ...\n",
              "5    6.0   7.24   6.0  6.13    6.0   6.08   8.0  5.25\n",
              "6   12.0  10.84  12.0  9.13   12.0   8.15   8.0  5.56\n",
              "7    7.0   4.82   7.0  7.26    7.0   6.42   8.0  7.91\n",
              "8    5.0   5.68   5.0  4.74    5.0   5.73   8.0  6.89\n",
              "\n",
              "[9 rows x 8 columns]"
            ]
          },
          "metadata": {},
          "execution_count": 27
        }
      ]
    },
    {
      "cell_type": "markdown",
      "metadata": {
        "id": "ASgDbEpgG5yv"
      },
      "source": [
        "## Visualización de los datos\n",
        "\n",
        "La clave en estos casos radica en una correcta visualización de los datos. A pesar de tener iguales valores estadísticos y de regresión. Cada conjunto corresponde a un comportamiento marcadamente distinto. Para poder darnos cuenta de este aspecto una buena alternativa es plotear los datos para su visualización."
      ]
    },
    {
      "cell_type": "code",
      "metadata": {
        "colab": {
          "base_uri": "https://localhost:8080/",
          "height": 1000
        },
        "id": "d7eYfxi7ZAqD",
        "outputId": "cabaf019-12d3-49cc-e936-a8a3f0701538"
      },
      "source": [
        "# Ploteo de datos\n",
        "import matplotlib.pyplot as plt\n",
        "\n",
        "#Conjuntos iniciales\n",
        "x_axis = ['X I', 'X II', 'X III','X IV']\n",
        "y_axis = ['Y I', 'Y II', 'Y III','Y IV']\n",
        "ax0= df_anscombe.plot.scatter(x=x_axis[0], y=y_axis[0],color=\"DarkBlue\", label=\"Group 1\")\n",
        "ax1=df_anscombe.plot.scatter(x=x_axis[1], y=y_axis[1], color=\"DarkBlue\", label=\"Group 2\");\n",
        "ax2=df_anscombe.plot.scatter(x=x_axis[2], y=y_axis[2], color=\"DarkBlue\", label=\"Group 3\");\n",
        "ax3=df_anscombe.plot.scatter(x=x_axis[3], y=y_axis[3], color=\"DarkBlue\", label=\"Group 4\");\n",
        "\n",
        "#Nuevos datos\n",
        "new_points = [[16.0,8.0],[8.0,6.0],[16.0,10.0],[16.0,6.0]]\n",
        "df_news = pd.DataFrame(new_points)\n",
        "df_news[0]\n",
        "\n",
        "df_news.plot.scatter(x=0, y=1, color='DarkOrange', label='Nuevos', ax=ax0);\n",
        "df_news.plot.scatter(x=0, y=1, color='DarkOrange', label='Nuevos', ax=ax1);\n",
        "df_news.plot.scatter(x=0, y=1, color='DarkOrange', label='Nuevos', ax=ax2);\n",
        "df_news.plot.scatter(x=0, y=1, color='DarkOrange', label='Nuevos', ax=ax3);"
      ],
      "execution_count": null,
      "outputs": [
        {
          "output_type": "display_data",
          "data": {
            "image/png": "[encoded data removed]",
            "text/plain": [
              "<Figure size 432x288 with 1 Axes>"
            ]
          },
          "metadata": {
            "needs_background": "light"
          }
        },
        {
          "output_type": "display_data",
          "data": {
            "image/png": "[encoded data removed]",
            "text/plain": [
              "<Figure size 432x288 with 1 Axes>"
            ]
          },
          "metadata": {
            "needs_background": "light"
          }
        },
        {
          "output_type": "display_data",
          "data": {
            "image/png": "[encoded data removed]",
            "text/plain": [
              "<Figure size 432x288 with 1 Axes>"
            ]
          },
          "metadata": {
            "needs_background": "light"
          }
        },
        {
          "output_type": "display_data",
          "data": {
            "image/png": "[encoded data removed]",
            "text/plain": [
              "<Figure size 432x288 with 1 Axes>"
            ]
          },
          "metadata": {
            "needs_background": "light"
          }
        }
      ]
    },
    {
      "cell_type": "markdown",
      "metadata": {
        "id": "rYatz9l_HkZz"
      },
      "source": [
        "En base a la visualización podemos sacar las siguientes conclusiones:\n",
        "\n",
        "* El conjunto 1 refiere a un conjunto de puntos a la cual podría realizarsele una regresion lineal\n",
        "* El conjunto 2 refiere a un polinomio de orden 2 o superior\n",
        "* El conjunto 3 es un caso lineal con un punto anómalo que distorsiona la regresión lineal\n",
        "* El conjunto 4 corresponde a una recta vertical.\n",
        "\n",
        "Por lo tanto, vemos que;\n",
        "* el punto [16,6] pertenece a la clase 2.\n",
        "*  El punto [8,6] pertenece a la clase 4\n",
        "\n",
        "Pero el punto [16,8] y [16,10]"
      ]
    },
    {
      "cell_type": "code",
      "metadata": {
        "colab": {
          "base_uri": "https://localhost:8080/",
          "height": 296
        },
        "id": "dp_DEXxegau0",
        "outputId": "5eee6ba3-02b2-4b29-cabc-a63536ee039e"
      },
      "source": [
        "import matplotlib.pyplot as plt\n",
        "\n",
        "#Conjunto 3\n",
        "b = (8.15-6.08)/(12-6)\n",
        "m = 6.08 - b*6 \n",
        "x= []\n",
        "y = []\n",
        "for i in range(160):\n",
        "  x.append(0.1*i)\n",
        "  y.append(b*0.1*i+m)\n",
        "\n",
        "df_new_doubt = df_news.drop([1,3], axis=0)\n",
        "\n",
        "plt.figure\n",
        "ax2=df_anscombe.plot.scatter(x=x_axis[2], y=y_axis[2], color=\"DarkBlue\", label=\"Group 3\");\n",
        "plt.plot(x,y)\n",
        "df_new_doubt.plot.scatter(x=0, y=1, color='DarkOrange', label='Nuevos', ax=ax2);\n",
        "plt.grid"
      ],
      "execution_count": null,
      "outputs": [
        {
          "output_type": "execute_result",
          "data": {
            "text/plain": [
              "<function matplotlib.pyplot.grid>"
            ]
          },
          "metadata": {},
          "execution_count": 37
        },
        {
          "output_type": "display_data",
          "data": {
            "image/png": "[encoded data removed]",
            "text/plain": [
              "<Figure size 432x288 with 1 Axes>"
            ]
          },
          "metadata": {
            "needs_background": "light"
          }
        }
      ]
    },
    {
      "cell_type": "code",
      "metadata": {
        "colab": {
          "base_uri": "https://localhost:8080/",
          "height": 313
        },
        "id": "nr-I-JBgL-Fv",
        "outputId": "9561c480-109d-46fe-b5dd-6e0ebb7ce5ab"
      },
      "source": [
        "import numpy as np #Librería numérica\n",
        "from sklearn.linear_model import LinearRegression #Regresión Lineal con scikit-learn\n",
        "x = np.array(df_anscombe['X III'].values.tolist())\n",
        "y = np.array(df_anscombe['Y III'].values.tolist())\n",
        "\n",
        "\n",
        "regresion_lineal = LinearRegression() # creamos una instancia de LinearRegression\n",
        "# instruimos a la regresión lineal que aprenda de los datos (x,y)\n",
        "regresion_lineal.fit(x.reshape(-1,1), y) \n",
        "\n",
        "# vemos los parámetros que ha estimado la regresión lineal\n",
        "print('b = ' + str(regresion_lineal.coef_) + ', m = ' + str(regresion_lineal.intercept_))\n",
        "\n",
        "#Conjunto 1\n",
        "x= []\n",
        "y = []\n",
        "for i in range(160):\n",
        "  x.append(0.1*i)\n",
        "  y.append(regresion_lineal.coef_*0.1*i+regresion_lineal.intercept_)\n",
        "\n",
        "df_new_doubt = df_news.drop([1,3], axis=0)\n",
        "plt.figure\n",
        "ax0= df_anscombe.plot.scatter(x=x_axis[0], y=y_axis[0],color=\"DarkBlue\", label=\"Group 1\")\n",
        "plt.plot(x,y)\n",
        "df_new_doubt.plot.scatter(x=0, y=1, color='DarkOrange', label='Nuevos', ax=ax0);\n",
        "plt.grid\n"
      ],
      "execution_count": null,
      "outputs": [
        {
          "output_type": "stream",
          "name": "stdout",
          "text": [
            "b = [0.62866667], m = 1.9275555555555544\n"
          ]
        },
        {
          "output_type": "execute_result",
          "data": {
            "text/plain": [
              "<function matplotlib.pyplot.grid>"
            ]
          },
          "metadata": {},
          "execution_count": 36
        },
        {
          "output_type": "display_data",
          "data": {
            "image/png": "[encoded data removed]",
            "text/plain": [
              "<Figure size 432x288 with 1 Axes>"
            ]
          },
          "metadata": {
            "needs_background": "light"
          }
        }
      ]
    },
    {
      "cell_type": "markdown",
      "metadata": {
        "id": "Q-N7POn7QP8E"
      },
      "source": [
        "La regresion lineal de los conjuntos 1 y 3, no nos arroja información adicional para garantizar la pertenencia de los puntos restantes a uno u otro conjunto"
      ]
    }
  ]
}